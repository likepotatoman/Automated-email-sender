{
  "nbformat": 4,
  "nbformat_minor": 0,
  "metadata": {
    "colab": {
      "provenance": []
    },
    "kernelspec": {
      "name": "python3",
      "display_name": "Python 3"
    },
    "language_info": {
      "name": "python"
    }
  },
  "cells": [
    {
      "cell_type": "code",
      "execution_count": null,
      "metadata": {
        "id": "Ve9tR3L9ql-o"
      },
      "outputs": [],
      "source": [
        "list_of_email = []\n",
        "\n",
        "#Inside of this array ONLY put string format e-mail addresses\n",
        "#It should look like this \"email_name@somethingmail.com\"\n",
        "#If there are multiple please separate them with commas\n",
        "#Example : [\"email1@gmail.com\",\"email2@hotmail.com\",\"email3@avast.com\"]\n",
        "#You can put as many e-mail as you want"
      ]
    },
    {
      "cell_type": "code",
      "source": [
        "#Don't forget to run the code block that defines list_of_email before running this code block or it'll result in an error because the computer doesnt know what list_of_email is\n",
        "\n",
        "#Potential errors :\n",
        "    #Wrong password/email adress (duh)\n",
        "    #Wrong gmail port\n",
        "    #Text not ascii compatible : accented, special, arabic, asian characters are not supported sometimes ' doesn't work neither so just erase and rewrite (it's complicated)\n",
        "    #Wrong format for all inputs\n",
        "    #Wrong format for list_of_email\n",
        "\n",
        "import smtplib\n",
        "from email.mime.multipart import MIMEMultipart\n",
        "from email.mime.text import MIMEText\n",
        "from email.header import Header\n",
        "message = MIMEMultipart(\"alternative\")\n",
        "\n",
        "my_email= \"example@ABC.com\"\n",
        "#Input your email here\n",
        "\n",
        "password_key= \"passwordExample\"\n",
        "#Input your password here, do not worry it is secure, you can check the code to see what is done with your information\n",
        "\n",
        "message['Subject'] = \"subjectExample\"\n",
        "#Insert the e-mail's subject here\n",
        "\n",
        "text_content= \"textExample\"\n",
        "#Input your text content here\n",
        "#Everything should be one one singular line\n",
        "#if you want to skip a line type \\n\n",
        "#Example : \"Hi,\\n\\nhow are you doing? We should meet again!\\nMaybe coffee?\\n\\n Patricia GenericFamilyName\" would give (without the # of course):\n",
        "#\n",
        "#Hi,\n",
        "#\n",
        "#how are you doing? We should meet again!\n",
        "#Maybe coffee?\n",
        "#\n",
        "#Patricia GenericFamilyName\n",
        "\n",
        "gmail_port= 587\n",
        "#this can sometimes change depending on the machine, if everyother troubleshoot doesn't work try changing it to 465\n",
        "\n",
        "gmail_server= \"smtp.gmail.com\"\n",
        "my_server = smtplib.SMTP(gmail_server, gmail_port)\n",
        "my_server.ehlo()\n",
        "my_server.starttls()\n",
        "my_server.login(my_email, password_key)\n",
        "message.attach(MIMEText(text_content))\n",
        "\n",
        "for i in range(len(list_of_email)):\n",
        "    my_server.sendmail(my_email, list_of_email[i], message.as_string())\n",
        "my_server.quit()"
      ],
      "metadata": {
        "colab": {
          "base_uri": "https://localhost:8080/"
        },
        "id": "nOjxDMIWrb9H",
        "outputId": "c5129d24-4cc1-4cb6-a2a6-52553b4facaa"
      },
      "execution_count": null,
      "outputs": [
        {
          "output_type": "execute_result",
          "data": {
            "text/plain": [
              "(221,\n",
              " b'2.0.0 closing connection 8926c6da1cb9f-4d37ebf468fsm2789741173.27 - gsmtp')"
            ]
          },
          "metadata": {},
          "execution_count": 3
        }
      ]
    },
    {
      "cell_type": "code",
      "source": [],
      "metadata": {
        "id": "MsvaIHfU4Qpu"
      },
      "execution_count": null,
      "outputs": []
    }
  ]
}